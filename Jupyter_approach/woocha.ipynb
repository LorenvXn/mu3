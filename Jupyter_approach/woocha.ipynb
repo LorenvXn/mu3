{
 "cells": [
  {
   "cell_type": "code",
   "execution_count": 33,
   "metadata": {},
   "outputs": [],
   "source": [
    "import os, sys\n",
    "import argparse\n",
    "import json\n",
    "\n",
    "from collections import namedtuple\n",
    "from ansible.parsing.dataloader import DataLoader\n",
    "from ansible.vars.manager import VariableManager\n",
    "from ansible.playbook.play import Play\n",
    "from ansible.inventory.manager import InventoryManager\n",
    "from ansible.utils.vars import load_extra_vars\n",
    "from ansible.executor.task_queue_manager import TaskQueueManager\n",
    "\n",
    "from ansible.playbook.helpers import load_list_of_tasks\n",
    "\n",
    "\n",
    "Options = namedtuple('Options',\n",
    "                   ['listtags', \n",
    "                    'listtasks', \n",
    "                    'listhosts', \n",
    "                    'syntax', \n",
    "                    'connection',\n",
    "                    'module_path',\n",
    "                    'forks', \n",
    "                    'remote_user', \n",
    "                    'private_key_file', \n",
    "                    'ssh_common_args',\n",
    "                    'ssh_extra_args', \n",
    "                    'sftp_extra_args', \n",
    "                    'scp_extra_args', \n",
    "                    'become', \n",
    "                    'become_method', \n",
    "                    'become_user', \n",
    "                    'verbosity', \n",
    "                    'check',\n",
    "                    'diff'\n",
    "                   ])\n",
    "\n",
    "\n",
    "loader = DataLoader()\n",
    "hosts_path = InventoryManager(loader=loader, sources=\"/etc/ansible/hosts\")\n",
    "variable_manager = VariableManager(loader=loader, inventory=hosts_path)\n",
    "\n",
    "\n",
    "inventory=hosts_path\n",
    "\n",
    "options = Options(listtags=False, \n",
    "\t\tlisttasks=False, \n",
    "\t\tlisthosts=False, \n",
    " \t\tsyntax=False, \n",
    "\t\tconnection='ssh', \n",
    "\t\tmodule_path=None, \n",
    "\t\tforks=100, \n",
    "\t\tremote_user='tron', \n",
    "        private_key_file=None, \n",
    "\t\tssh_common_args=None, \n",
    "\t\tssh_extra_args=None, \n",
    "        sftp_extra_args=None, \n",
    "\t\tscp_extra_args=None, \n",
    "\t\tbecome=True, \n",
    "\t\tbecome_method='sudo', \n",
    "        become_user='tron', \n",
    "\t\tverbosity=None, \n",
    "\t\tcheck=False, \n",
    "\t\tdiff=False)\n",
    "\n",
    "passwords = {}\n",
    "\n",
    "\n",
    "filename=\"/opt/test/conf.json\"\n",
    "\n",
    "jj=open(filename, 'r')\n",
    "\n",
    "confile=jj.read()\n",
    "\n",
    "data = json.loads(confile)\n",
    "\n",
    "variable_manager.extra_vars=data\n",
    "\n",
    "variable_manager.set_inventory(inventory)\n",
    "\n"
   ]
  },
  {
   "cell_type": "code",
   "execution_count": 34,
   "metadata": {},
   "outputs": [
    {
     "name": "stdout",
     "output_type": "stream",
     "text": [
      "kafka\n"
     ]
    }
   ],
   "source": [
    "ser = data['service']\n",
    "\n",
    "print (ser)"
   ]
  },
  {
   "cell_type": "code",
   "execution_count": 35,
   "metadata": {},
   "outputs": [
    {
     "name": "stdout",
     "output_type": "stream",
     "text": [
      "#### check existence of blueprint  /opt/local_blueprint/kafka/blueprint_run_image.sh  to change ###\n",
      "file /opt/local_blueprint/kafka/blueprint_run_image.sh  exists\n"
     ]
    }
   ],
   "source": [
    "FILE1 = \"/opt/local_blueprint/{0}/blueprint_run_image.sh\".format(ser)\n",
    "print (\"#### check existence of blueprint \" , FILE1,  \" to change ###\" )\n",
    "    \n",
    "try:\n",
    "    open(FILE1, 'r')\n",
    "    print (\"file\", FILE1,  \" exists\")\n",
    "    \n",
    "except IOError:\n",
    "        print('no configuration file %s found. Check path/filename again' % FILE1)\n",
    "        sys.exit()"
   ]
  },
  {
   "cell_type": "code",
   "execution_count": 36,
   "metadata": {},
   "outputs": [
    {
     "name": "stdout",
     "output_type": "stream",
     "text": [
      "#### check existence of blueprint  /opt/local_blueprint/blueprint_param_run_container.sh  to change ###\n",
      "file /opt/local_blueprint/blueprint_param_run_container.sh  exists\n"
     ]
    }
   ],
   "source": [
    "FILE2 = \"/opt/local_blueprint/blueprint_param_run_container.sh\"\n",
    "#print \"#### check existence of blueprint \", FILE2, \" to change ### \"\n",
    "print (\"#### check existence of blueprint \" , FILE2,  \" to change ###\" )\n",
    "try:\n",
    "        open(FILE2, 'r')\n",
    "        print (\"file\", FILE2,  \" exists\")\n",
    "except IOError:\n",
    "        print('no configuration file %s found. Check path/filename again' % FILE2)\n",
    "        sys.exit()\n",
    "      "
   ]
  },
  {
   "cell_type": "code",
   "execution_count": 37,
   "metadata": {},
   "outputs": [
    {
     "name": "stdout",
     "output_type": "stream",
     "text": [
      "#### check existence of blueprint  /opt/local_images/kafka/Dockerfile  to change ### \n",
      "file /opt/local_images/kafka/Dockerfile  exists\n"
     ]
    }
   ],
   "source": [
    "FILE3 = \"/opt/local_images/{0}/Dockerfile\".format(ser)\n",
    "print (\"#### check existence of blueprint \", FILE3, \" to change ### \")\n",
    "try:\n",
    "        open(FILE3, 'r')\n",
    "        print (\"file\", FILE3,  \" exists\")\n",
    "except IOError:\n",
    "        print('no Dockerfile %s found. Check path/filename again' % FILE3)\n",
    "        sys.exit()"
   ]
  },
  {
   "cell_type": "code",
   "execution_count": 38,
   "metadata": {},
   "outputs": [],
   "source": [
    "play_source = dict (\n",
    "     name = \"check contain file\",\n",
    "     hosts = '{{ master }}',\n",
    "     gather_facts = 'yes',\n",
    "     tasks = [\n",
    "     dict(action=dict(module='shell', args='ls -ltr /opt/test'), register='shell_out'),\n",
    "     dict(action=dict(module='debug', args=dict(msg='{{shell_out.stdout}}')))\n",
    "            ]\n",
    "        )"
   ]
  },
  {
   "cell_type": "code",
   "execution_count": 39,
   "metadata": {},
   "outputs": [],
   "source": [
    "play=Play().load(play_source, \n",
    "                variable_manager=variable_manager, \n",
    "                loader=loader)\n"
   ]
  },
  {
   "cell_type": "code",
   "execution_count": 40,
   "metadata": {},
   "outputs": [],
   "source": [
    "final = TaskQueueManager(\n",
    "             inventory=inventory,\n",
    "             variable_manager=variable_manager,\n",
    "             loader=loader,\n",
    "             options=options,\n",
    "             passwords=passwords,\n",
    "             stdout_callback='default'\n",
    "            )\n"
   ]
  },
  {
   "cell_type": "code",
   "execution_count": 41,
   "metadata": {},
   "outputs": [
    {
     "name": "stdout",
     "output_type": "stream",
     "text": [
      "\n",
      "PLAY [check contain file] ******************************************************\n",
      "\n",
      "TASK [Gathering Facts] *********************************************************\n",
      "ok: [172.18.12.181]\n",
      "\n",
      "TASK [shell] *******************************************************************\n",
      "changed: [172.18.12.181]\n",
      "\n",
      "TASK [debug] *******************************************************************\n",
      "ok: [172.18.12.181] => {\n",
      "    \"msg\": \"total 28\\n-rw-r--r-- 1 tron tron  3919 Sep 18 13:18 test.py\\n-rw-r--r-- 1 tron tron   234 Sep 18 14:18 conf.json\\n-rw-r--r-- 1 tron tron 12995 Sep 18 14:37 hii.py\\n-rw-rw-rw- 1 tron tron    27 Sep 24 10:48 wild_test.txt\"\n",
      "}\n"
     ]
    }
   ],
   "source": [
    "result = final.run(play)"
   ]
  },
  {
   "cell_type": "code",
   "execution_count": null,
   "metadata": {},
   "outputs": [],
   "source": []
  }
 ],
 "metadata": {
  "kernelspec": {
   "display_name": "Python 3",
   "language": "python",
   "name": "python3"
  },
  "language_info": {
   "codemirror_mode": {
    "name": "ipython",
    "version": 3
   },
   "file_extension": ".py",
   "mimetype": "text/x-python",
   "name": "python",
   "nbconvert_exporter": "python",
   "pygments_lexer": "ipython3",
   "version": "3.5.2"
  }
 },
 "nbformat": 4,
 "nbformat_minor": 2
}
