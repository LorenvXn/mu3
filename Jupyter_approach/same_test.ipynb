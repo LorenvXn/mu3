{
 "cells": [
  {
   "cell_type": "code",
   "execution_count": 11,
   "metadata": {},
   "outputs": [
    {
     "name": "stdout",
     "output_type": "stream",
     "text": [
      "\n",
      "PLAY [check contain file] ******************************************************\n",
      "\n",
      "TASK [Gathering Facts] *********************************************************\n",
      "\u001b[0;32mok: [10.101.12.181]\u001b[0m\n",
      "\n",
      "TASK [shell] *******************************************************************\n",
      "\u001b[0;33mchanged: [10.101.12.181]\u001b[0m\n",
      "\n",
      "TASK [debug] *******************************************************************\n",
      "\u001b[0;32mok: [10.101.12.181] => {\u001b[0m\n",
      "\u001b[0;32m    \"msg\": \"Check out the news, y'all!\"\u001b[0m\n",
      "\u001b[0;32m}\u001b[0m\n",
      "\n",
      "PLAY [check file content before replacement] ***********************************\n",
      "\n",
      "TASK [Gathering Facts] *********************************************************\n",
      "\u001b[0;32mok: [10.101.12.181]\u001b[0m\n",
      "\n",
      "TASK [replace] *****************************************************************\n",
      "\u001b[0;32mok: [10.101.12.181]\u001b[0m\n",
      "\n",
      "PLAY [check file content after replacement] ************************************\n",
      "\n",
      "TASK [Gathering Facts] *********************************************************\n",
      "\u001b[0;32mok: [10.101.12.181]\u001b[0m\n",
      "\n",
      "TASK [shell] *******************************************************************\n",
      "\u001b[0;33mchanged: [10.101.12.181]\u001b[0m\n",
      "\n",
      "TASK [debug] *******************************************************************\n",
      "\u001b[0;32mok: [10.101.12.181] => {\u001b[0m\n",
      "\u001b[0;32m    \"msg\": \"Check out the news, y'all!\"\u001b[0m\n",
      "\u001b[0;32m}\u001b[0m\n",
      "\n",
      "PLAY [copy file to minion] *****************************************************\n",
      "\n",
      "TASK [Gathering Facts] *********************************************************\n",
      "\u001b[0;32mok: [10.101.12.199]\u001b[0m\n",
      "\n",
      "TASK [copy] ********************************************************************\n",
      "\u001b[0;32mok: [10.101.12.199]\u001b[0m\n"
     ]
    }
   ],
   "source": [
    "! python /opt/test/test.py\n"
   ]
  },
  {
   "cell_type": "code",
   "execution_count": 3,
   "metadata": {},
   "outputs": [
    {
     "name": "stdout",
     "output_type": "stream",
     "text": [
      "Collecting ansible\n",
      "Collecting setuptools (from ansible)\n",
      "  Using cached https://files.pythonhosted.org/packages/96/06/c8ee69628191285ddddffb277bd5abdf769166e7a14b867c2a172f0175b1/setuptools-40.4.3-py2.py3-no
ne-any.whl\n",
      "Collecting paramiko (from ansible)\n",
      "  Using cached https://files.pythonhosted.org/packages/cf/ae/94e70d49044ccc234bfdba20114fa947d7ba6eb68a2e452d89b920e62227/paramiko-2.4.2-py2.py3-none-
any.whl\n",
      "Collecting jinja2 (from ansible)\n",
      "  Using cached https://files.pythonhosted.org/packages/7f/ff/ae64bacdfc95f27a016a7bed8e8686763ba4d277a78ca76f32659220a731/Jinja2-2.10-py2.py3-none-any
.whl\n",
      "Collecting PyYAML (from ansible)\n",
      "Collecting cryptography (from ansible)\n",
      "  Using cached https://files.pythonhosted.org/packages/22/21/233e38f74188db94e8451ef6385754a98f3cad9b59bedf3a8e8b14988be4/cryptography-2.3.1.tar.gz\n"
,
      "Collecting bcrypt>=3.1.3 (from paramiko->ansible)\n",
      "  Using cached https://files.pythonhosted.org/packages/72/8d/57da727cbb4ddf0295b0665a93bd8f46fbbd2a48b76cbb0896ca7d27301f/bcrypt-3.1.4-cp35-cp35m-many
linux1_x86_64.whl\n",
      "Collecting pynacl>=1.0.1 (from paramiko->ansible)\n",
      "  Using cached https://files.pythonhosted.org/packages/c9/9c/c8d4ae0f590faded4af55381131ad4db8729214eba6537c520622ba3548a/PyNaCl-1.2.1-cp35-cp35m-many
linux1_x86_64.whl\n",
      "Collecting pyasn1>=0.1.7 (from paramiko->ansible)\n",
      "  Using cached https://files.pythonhosted.org/packages/d1/a1/7790cc85db38daa874f6a2e6308131b9953feb1367f2ae2d1123bb93a9f5/pyasn1-0.4.4-py2.py3-none-an
y.whl\n",
      "Collecting MarkupSafe>=0.23 (from jinja2->ansible)\n",
      "Collecting idna>=2.1 (from cryptography->ansible)\n",
      "  Using cached https://files.pythonhosted.org/packages/4b/2a/0276479a4b3caeb8a8c1af2f8e4355746a97fab05a372e4a2c6a6b876165/idna-2.7-py2.py3-none-any.wh
l\n",
      "Collecting asn1crypto>=0.21.0 (from cryptography->ansible)\n",
      "  Using cached https://files.pythonhosted.org/packages/ea/cd/35485615f45f30a510576f1a56d1e0a7ad7bd8ab5ed7cdc600ef7cd06222/asn1crypto-0.24.0-py2.py3-no
ne-any.whl\n",
      "Collecting six>=1.4.1 (from cryptography->ansible)\n",
      "  Using cached https://files.pythonhosted.org/packages/67/4b/141a581104b1f6397bfa78ac9d43d8ad29a7ca43ea90a2d863fe3056e86a/six-1.11.0-py2.py3-none-any.
whl\n",
      "Collecting cffi!=1.11.3,>=1.7 (from cryptography->ansible)\n",
      "  Using cached https://files.pythonhosted.org/packages/59/cc/0e1635b4951021ef35f5c92b32c865ae605fac2a19d724fb6ff99d745c81/cffi-1.11.5-cp35-cp35m-manyl
inux1_x86_64.whl\n",
      "Collecting pycparser (from cffi!=1.11.3,>=1.7->cryptography->ansible)\n",
      "Building wheels for collected packages: cryptography\n",
      "  Running setup.py bdist_wheel for cryptography ... \u001b[?25ldone\n",
      "\u001b[?25h  Stored in directory: /home/tron/.cache/pip/wheels/fb/6a/1c/07080dc38a589b201a0bb17a4a148cb528ee0e323f6f68c254\n",
      "Successfully built cryptography\n",
      "Installing collected packages: setuptools, six, pycparser, cffi, bcrypt, pynacl, pyasn1, idna, asn1crypto, cryptography, paramiko, MarkupSafe, jinja2,
 PyYAML, ansible\n",
      "Successfully installed MarkupSafe-1.0 PyYAML-3.13 ansible-2.6.4 asn1crypto-0.24.0 bcrypt-3.1.4 cffi-1.11.5 cryptography-2.3.1 idna-2.7 jinja2-2.10 par
amiko-2.4.2 pyasn1-0.4.4 pycparser-2.19 pynacl-1.2.1 setuptools-40.4.3 six-1.11.0\n",
      "\u001b[33mYou are using pip version 8.1.1, however version 18.0 is available.\n",
      "You should consider upgrading via the 'pip install --upgrade pip' command.\u001b[0m\n"
     ]
    }
   ],
   "source": [
    "! pip3 install ansible"
   ]
  },
  {
   "cell_type": "code",
   "execution_count": 5,
   "metadata": {},
   "outputs": [],
   "source": [
    "import os, sys\n",
    "import argparse\n",
    "import json\n",
    "\n",
    "from collections import namedtuple\n",
    "from ansible.parsing.dataloader import DataLoader\n",
    "from ansible.vars.manager import VariableManager\n",
    "from ansible.playbook.play import Play\n",
    "from ansible.inventory.manager import InventoryManager\n",
    "from ansible.utils.vars import load_extra_vars\n",
    "from ansible.executor.task_queue_manager import TaskQueueManager\n",
    "\n",
    "from ansible.playbook.helpers import load_list_of_tasks\n"
   ]
  },
  {
   "cell_type": "code",
   "execution_count": 6,
   "metadata": {},
   "outputs": [],
   "source": [
    "Options = namedtuple('Options',\n",
    "                   ['listtags', \n",
    "                    'listtasks', \n",
    "                    'listhosts', \n",
    "                    'syntax', \n",
    "                    'connection',\n",
    "                    'module_path',\n",
    "                    'forks', \n",
    "                    'remote_user', \n",
    "                    'private_key_file', \n",
    "                    'ssh_common_args',\n",
    "                    'ssh_extra_args', \n",
    "                    'sftp_extra_args', \n",
    "                    'scp_extra_args', \n",
    "                    'become', \n",
    "                    'become_method', \n",
    "                    'become_user', \n",
    "                    'verbosity', \n",
    "                    'check',\n",
    "                    'diff'\n",
    "                   ])\n",
    "\n",
    "\n",
    "loader = DataLoader()\n",
    "\n",
    "hosts_path = InventoryManager(loader=loader, sources=\"/etc/ansible/hosts\")\n",
    "\n",
    "variable_manager = VariableManager(loader=loader, inventory=hosts_path)\n",
    "\n",
    "\n",
    "inventory=hosts_path\n",
    "\n"
   ]
  },
  {
   "cell_type": "code",
   "execution_count": 7,
   "metadata": {},
   "outputs": [],
   "source": [
    "inventory=hosts_path\n",
    "\n",
    "options = Options(listtags=False, \n",
    "\t\tlisttasks=False, \n",
    "\t\tlisthosts=False, \n",
    " \t\tsyntax=False, \n",
    "\t\tconnection='ssh', \n",
    "\t\tmodule_path=None, \n",
    "\t\tforks=100, \n",
    "\t\tremote_user='tron', \n",
    "        private_key_file=None, \n",
    "\t\tssh_common_args=None, \n",
    "\t\tssh_extra_args=None, \n",
    "        sftp_extra_args=None, \n",
    "\t\tscp_extra_args=None, \n",
    "\t\tbecome=True, \n",
    "\t\tbecome_method='sudo', \n",
    "        become_user='tron', \n",
    "\t\tverbosity=None, \n",
    "\t\tcheck=False, \n",
    "\t\tdiff=False)\n",
    "\n",
    "passwords = {}\n",
    "\n",
    "\n",
    "filename=\"/opt/test/conf.json\"\n",
    "\n",
    "jj=open(filename, 'r')"
   ]
  },
  {
   "cell_type": "code",
   "execution_count": 8,
   "metadata": {},
   "outputs": [],
   "source": [
    "confile=jj.read()\n",
    "\n",
    "data = json.loads(confile)\n",
    "\n",
    "variable_manager.extra_vars=data\n",
    "\n",
    "variable_manager.set_inventory(inventory)"
   ]
  },
  {
   "cell_type": "code",
   "execution_count": 9,
   "metadata": {},
   "outputs": [],
   "source": [
    "play_source_three = dict (\n",
    "     name = \"check contain file\",\n",
    "     hosts = '{{ master }}',\n",
    "     gather_facts = 'yes',\n",
    "     tasks = [\n",
    "     dict(action=dict(module='shell', args='cat /opt/test/wild_test.txt'), register='shell_out'),\n",
    "     dict(action=dict(module='debug', args=dict(msg='{{shell_out.stdout}}')))\n",
    "\n",
    "         ]\n",
    "    )\n",
    "\n",
    "playThree=Play().load(play_source_three, variable_manager=variable_manager, loader=loader)\n"
   ]
  },
  {
   "cell_type": "code",
   "execution_count": 10,
   "metadata": {},
   "outputs": [],
   "source": [
    "play_source_four = dict (\n",
    "\tname = \"check file content before replacement\",\n",
    "\thosts = '{{ master }}',\n",
    "\tgather_facts = 'yes',\n",
    "\ttasks = [\n",
    "\t\t dict(action=dict(module='replace',\n",
    "                 path='/opt/test/wild_test.txt',\n",
    "                 regexp='weather',\n",
    "\t\t replace = '{{ weather }}'\n",
    "                )),\n",
    "         ]\n",
    "\n",
    "    )\n",
    "\n",
    "playFour=Play().load(play_source_four, variable_manager=variable_manager, loader=loader)\n"
   ]
  },
  {
   "cell_type": "code",
   "execution_count": 11,
   "metadata": {},
   "outputs": [],
   "source": [
    "play_source = dict (\n",
    "     name = \"check file content after replacement\",\n",
    "     hosts = '{{ master  }}',\n",
    "     gather_facts = 'yes',\n",
    "     tasks = [\n",
    "   dict(action=dict(module='shell', args='cat /opt/test/wild_test.txt'), register='shell_out'),\n",
    "   dict(action=dict(module='debug', args=dict(msg='{{shell_out.stdout}}')))\n",
    "\n",
    "         ]\n",
    "\n",
    "    )\n",
    "\n",
    "play=Play().load(play_source, variable_manager=variable_manager, loader=loader)\n"
   ]
  },
  {
   "cell_type": "code",
   "execution_count": 12,
   "metadata": {},
   "outputs": [],
   "source": [
    "play_source_fve = dict (\n",
    "        name = \"copy file to minion\",\n",
    "        hosts = '{{ minion2 }}',\n",
    "        gather_facts = 'yes',\n",
    "        tasks = [\n",
    "                 dict(action=dict(module='copy',\n",
    "\t\t dest='/opt/more_testing/',\n",
    "         src='/opt/test/wild_test.txt',\n",
    "\t\t owner='tron',\n",
    "\t\t group='tron'))\n",
    "         ]\n",
    "    )\n",
    "\n",
    "playFive=Play().load(play_source_fve, variable_manager=variable_manager, loader=loader)\n"
   ]
  },
  {
   "cell_type": "code",
   "execution_count": 13,
   "metadata": {},
   "outputs": [],
   "source": [
    "final = TaskQueueManager(\n",
    "             inventory=inventory,\n",
    "             variable_manager=variable_manager,\n",
    "             loader=loader,\n",
    "             options=options,\n",
    "             passwords=passwords,\n",
    "             stdout_callback='default',\n",
    "         )"
   ]
  },
  {
   "cell_type": "code",
   "execution_count": 14,
   "metadata": {},
   "outputs": [
    {
     "name": "stdout",
     "output_type": "stream",
     "text": [
      "\n",
      "PLAY [check contain file] ******************************************************\n",
      "\n",
      "TASK [Gathering Facts] *********************************************************\n",
      "ok: [10.101.12.181]\n",
      "\n",
      "TASK [shell] *******************************************************************\n",
      "changed: [10.101.12.181]\n",
      "\n",
      "TASK [debug] *******************************************************************\n",
      "ok: [10.101.12.181] => {\n",
      "    \"msg\": \"Check out the wheather, y'all!\"\n",
      "}\n",
      "\n",
      "PLAY [check file content before replacement] ***********************************\n",
      "\n",
      "TASK [Gathering Facts] *********************************************************\n",
      "ok: [10.101.12.181]\n",
      "\n",
      "TASK [replace] *****************************************************************\n",
      "ok: [10.101.12.181]\n",
      "\n",
      "PLAY [check file content after replacement] ************************************\n",
      "\n",
      "TASK [Gathering Facts] *********************************************************\n",
      "ok: [10.101.12.181]\n",
      "\n",
      "TASK [shell] *******************************************************************\n",
      "changed: [10.101.12.181]\n",
      "\n",
      "TASK [debug] *******************************************************************\n",
      "ok: [10.101.12.181] => {\n",
      "    \"msg\": \"Check out the news, y'all!\"\n",
      "}\n",
      "\n",
      "PLAY [copy file to minion] *****************************************************\n",
      "\n",
      "TASK [Gathering Facts] *********************************************************\n",
      "ok: [10.101.12.199]\n",
      "\n",
      "TASK [copy] ********************************************************************\n",
      "ok: [10.101.12.199]\n"
     ]
    }
   ],
   "source": [
    "result = final.run(playThree)\n",
    "resultOne = final.run(playFour)\n",
    "resultTwo = final.run(play)\n",
    "resultThree = final.run(playFive)"
   ]
  },
  {
   "cell_type": "code",
   "execution_count": 15,
   "metadata": {},
   "outputs": [
    {
     "name": "stdout",
     "output_type": "stream",
     "text": [
      "uid=1025(tron) gid=1025(tron) groups=1025(tron)\r\n"
     ]
    }
   ],
   "source": [
    "! id"
   ]
  },
  {
   "cell_type": "code",
   "execution_count": null,
   "metadata": {},
   "outputs": [],
   "source": []
  }
 ],
 "metadata": {
  "kernelspec": {
   "display_name": "Python 3",
   "language": "python",
   "name": "python3"
  },
  "language_info": {
   "codemirror_mode": {
    "name": "ipython",
    "version": 3
   },
   "file_extension": ".py",
   "mimetype": "text/x-python",
   "name": "python",
   "nbconvert_exporter": "python",
   "pygments_lexer": "ipython3",
   "version": "3.5.2"
  }
 },
 "nbformat": 4,
 "nbformat_minor": 2
}
